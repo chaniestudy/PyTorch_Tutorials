{
  "nbformat": 4,
  "nbformat_minor": 0,
  "metadata": {
    "colab": {
      "name": "MNIST_Classifier.ipynb",
      "provenance": [],
      "machine_shape": "hm",
      "authorship_tag": "ABX9TyPJf2GHNmQrJgOK+JqrFn/p",
      "include_colab_link": true
    },
    "kernelspec": {
      "name": "python3",
      "display_name": "Python 3"
    },
    "accelerator": "GPU"
  },
  "cells": [
    {
      "cell_type": "markdown",
      "metadata": {
        "id": "view-in-github",
        "colab_type": "text"
      },
      "source": [
        "<a href=\"https://colab.research.google.com/github/chaniestudy/PyTorch_Tutorials/blob/main/MNIST_Classifier.ipynb\" target=\"_parent\"><img src=\"https://colab.research.google.com/assets/colab-badge.svg\" alt=\"Open In Colab\"/></a>"
      ]
    },
    {
      "cell_type": "code",
      "metadata": {
        "id": "_GNpWmOOAYBn"
      },
      "source": [
        "import torch\r\n",
        "from google.colab import drive\r\n",
        "drive.mount('/content/gdrive')\r\n",
        "!pip install kaggle\r\n",
        "from google.colab import files\r\n",
        "files.upload()"
      ],
      "execution_count": null,
      "outputs": []
    },
    {
      "cell_type": "code",
      "metadata": {
        "id": "tE2SrmNXBg9d"
      },
      "source": [
        "!mkdir -p ~/.kaggle\r\n",
        "!cp kaggle.json ~/.kaggle/\r\n",
        "# Permission Warning 이 일어나지 않도록 \r\n",
        "!chmod 600 ~/.kaggle/kaggle.json"
      ],
      "execution_count": 2,
      "outputs": []
    },
    {
      "cell_type": "code",
      "metadata": {
        "id": "_dh54rzjB1O9"
      },
      "source": [
        "! kaggle competitions download -c digit-recognizer"
      ],
      "execution_count": null,
      "outputs": []
    },
    {
      "cell_type": "code",
      "metadata": {
        "colab": {
          "base_uri": "https://localhost:8080/"
        },
        "id": "62t2baBnCE4k",
        "outputId": "bbc987ff-0045-4774-d646-718afa20edae"
      },
      "source": [
        "! unzip train.csv.zip\r\n",
        "! unzip test.csv.zip"
      ],
      "execution_count": 4,
      "outputs": [
        {
          "output_type": "stream",
          "text": [
            "Archive:  train.csv.zip\n",
            "  inflating: train.csv               \n",
            "Archive:  test.csv.zip\n",
            "  inflating: test.csv                \n"
          ],
          "name": "stdout"
        }
      ]
    },
    {
      "cell_type": "code",
      "metadata": {
        "id": "f9GTSLYHBkBu"
      },
      "source": [
        "import torch\r\n",
        "import torch.nn as nn\r\n",
        "from torch.autograd import Variable\r\n",
        "from torch.utils.data import DataLoader\r\n",
        "import pandas as pd\r\n",
        "import numpy as np\r\n",
        "from sklearn.model_selection import train_test_split\r\n",
        "import matplotlib.pyplot as plt"
      ],
      "execution_count": 10,
      "outputs": []
    },
    {
      "cell_type": "code",
      "metadata": {
        "id": "wl5Dz-UUBnXN"
      },
      "source": [
        "# load data\r\n",
        "train = pd.read_csv(r\"train.csv\",dtype = np.float32)\r\n",
        "\r\n",
        "# split data into features(pixels) and labels(numbers from 0 to 9)\r\n",
        "targets_numpy = train.label.values\r\n",
        "features_numpy = train.loc[:,train.columns != \"label\"].values/255 # normalization\r\n",
        "\r\n",
        "# train test split. Size of train data is 80% and size of test data is 20%. \r\n",
        "features_train, features_test, targets_train, targets_test = train_test_split(features_numpy,\r\n",
        "                                                                             targets_numpy,\r\n",
        "                                                                             test_size = 0.2,\r\n",
        "                                                                             random_state = 42) \r\n",
        "\r\n",
        "# create feature and targets tensor for train set. As you remember we need variable to accumulate gradients. Therefore first we create tensor, then we will create variable\r\n",
        "featuresTrain = torch.from_numpy(features_train)\r\n",
        "targetsTrain = torch.from_numpy(targets_train).type(torch.LongTensor) # data type is long\r\n",
        "\r\n",
        "# create feature and targets tensor for test set.\r\n",
        "featuresTest = torch.from_numpy(features_test)\r\n",
        "targetsTest = torch.from_numpy(targets_test).type(torch.LongTensor) # data type is long\r\n",
        "\r\n",
        "# batch_size, epoch and iteration\r\n",
        "batch_size = 100\r\n",
        "n_iters = 10000\r\n",
        "num_epochs = n_iters / (len(features_train) / batch_size)\r\n",
        "num_epochs = int(num_epochs)\r\n",
        "\r\n",
        "class CNNModel(nn.Module):\r\n",
        "    def __init__(self):\r\n",
        "        super(CNNModel, self).__init__()\r\n",
        "        \r\n",
        "        # Convolution 1\r\n",
        "        self.cnn1 = nn.Conv2d(in_channels=1, out_channels=16, kernel_size=5, stride=1, padding=0)\r\n",
        "        self.relu1 = nn.ReLU()\r\n",
        "        \r\n",
        "        # Max pool 1\r\n",
        "        self.maxpool1 = nn.MaxPool2d(kernel_size=2)\r\n",
        "     \r\n",
        "        # Convolution 2\r\n",
        "        self.cnn2 = nn.Conv2d(in_channels=16, out_channels=32, kernel_size=5, stride=1, padding=0)\r\n",
        "        self.relu2 = nn.ReLU()\r\n",
        "        \r\n",
        "        # Max pool 2\r\n",
        "        self.maxpool2 = nn.MaxPool2d(kernel_size=2)\r\n",
        "        \r\n",
        "        # Fully connected 1\r\n",
        "        self.fc1 = nn.Linear(32 * 4 * 4, 10) \r\n",
        "    \r\n",
        "    def forward(self, x):\r\n",
        "        # Convolution 1\r\n",
        "        out = self.cnn1(x)\r\n",
        "        out = self.relu1(out)\r\n",
        "        \r\n",
        "        # Max pool 1\r\n",
        "        out = self.maxpool1(out)\r\n",
        "        \r\n",
        "        # Convolution 2 \r\n",
        "        out = self.cnn2(out)\r\n",
        "        out = self.relu2(out)\r\n",
        "        \r\n",
        "        # Max pool 2 \r\n",
        "        out = self.maxpool2(out)\r\n",
        "        \r\n",
        "        # flatten\r\n",
        "        out = out.view(out.size(0), -1)\r\n",
        "\r\n",
        "        # Linear function (readout)\r\n",
        "        out = self.fc1(out)\r\n",
        "        \r\n",
        "        return out\r\n",
        "\r\n",
        "# batch_size, epoch and iteration\r\n",
        "batch_size = 100\r\n",
        "n_iters = 2500\r\n",
        "num_epochs = n_iters / (len(features_train) / batch_size)\r\n",
        "num_epochs = int(num_epochs)\r\n",
        "\r\n",
        "# Pytorch train and test sets\r\n",
        "train = torch.utils.data.TensorDataset(featuresTrain,targetsTrain)\r\n",
        "test = torch.utils.data.TensorDataset(featuresTest,targetsTest)\r\n",
        "\r\n",
        "# data loader\r\n",
        "train_loader = torch.utils.data.DataLoader(train, batch_size = batch_size, shuffle = False)\r\n",
        "test_loader = torch.utils.data.DataLoader(test, batch_size = batch_size, shuffle = False)\r\n",
        "    \r\n",
        "# Create CNN\r\n",
        "model = CNNModel()\r\n",
        "\r\n",
        "# Cross Entropy Loss \r\n",
        "error = nn.CrossEntropyLoss()\r\n",
        "\r\n",
        "# SGD Optimizer\r\n",
        "learning_rate = 0.1\r\n",
        "optimizer = torch.optim.SGD(model.parameters(), lr=learning_rate)"
      ],
      "execution_count": 12,
      "outputs": []
    },
    {
      "cell_type": "code",
      "metadata": {
        "colab": {
          "base_uri": "https://localhost:8080/"
        },
        "id": "c8Uylzi7B2NG",
        "outputId": "5970328b-1d69-4c92-b2b9-f0d3153ccc94"
      },
      "source": [
        "count = 0\r\n",
        "loss_list = []\r\n",
        "iteration_list = []\r\n",
        "accuracy_list = []\r\n",
        "for epoch in range(num_epochs):\r\n",
        "    for i, (images, labels) in enumerate(train_loader):\r\n",
        "        \r\n",
        "        train = Variable(images.view(100,1,28,28))\r\n",
        "        labels = Variable(labels)\r\n",
        "        \r\n",
        "        # Clear gradients\r\n",
        "        optimizer.zero_grad()\r\n",
        "        \r\n",
        "        # Forward propagation\r\n",
        "        outputs = model(train)\r\n",
        "        \r\n",
        "        # Calculate softmax and ross entropy loss\r\n",
        "        loss = error(outputs, labels)\r\n",
        "        \r\n",
        "        # Calculating gradients\r\n",
        "        loss.backward()\r\n",
        "        \r\n",
        "        # Update parameters\r\n",
        "        optimizer.step()\r\n",
        "        \r\n",
        "        count += 1\r\n",
        "        \r\n",
        "        if count % 50 == 0:\r\n",
        "            # Calculate Accuracy         \r\n",
        "            correct = 0\r\n",
        "            total = 0\r\n",
        "            # Iterate through test dataset\r\n",
        "            for images, labels in test_loader:\r\n",
        "                \r\n",
        "                test = Variable(images.view(100,1,28,28))\r\n",
        "                \r\n",
        "                # Forward propagation\r\n",
        "                outputs = model(test)\r\n",
        "                \r\n",
        "                # Get predictions from the maximum value\r\n",
        "                predicted = torch.max(outputs.data, 1)[1]\r\n",
        "                \r\n",
        "                # Total number of labels\r\n",
        "                total += len(labels)\r\n",
        "                \r\n",
        "                correct += (predicted == labels).sum()\r\n",
        "            \r\n",
        "            accuracy = 100 * correct / float(total)\r\n",
        "            \r\n",
        "            # store loss and iteration\r\n",
        "            loss_list.append(loss.data)\r\n",
        "            iteration_list.append(count)\r\n",
        "            accuracy_list.append(accuracy)\r\n",
        "        if count % 500 == 0:\r\n",
        "            # Print Loss\r\n",
        "            print('Iteration: {}  Loss: {}  Accuracy: {} %'.format(count, loss.data, accuracy))"
      ],
      "execution_count": 13,
      "outputs": [
        {
          "output_type": "stream",
          "text": [
            "Iteration: 500  Loss: 0.11985761672258377  Accuracy: 96.17857360839844 %\n",
            "Iteration: 1000  Loss: 0.037135057151317596  Accuracy: 97.63095092773438 %\n",
            "Iteration: 1500  Loss: 0.04290640354156494  Accuracy: 97.73809814453125 %\n",
            "Iteration: 2000  Loss: 0.017270157113671303  Accuracy: 98.26190185546875 %\n"
          ],
          "name": "stdout"
        }
      ]
    },
    {
      "cell_type": "code",
      "metadata": {
        "colab": {
          "base_uri": "https://localhost:8080/",
          "height": 573
        },
        "id": "ElwzeMCHCw9K",
        "outputId": "1e74f931-5917-4095-c2ba-4dcc68b6f974"
      },
      "source": [
        "plt.plot(iteration_list,loss_list)\r\n",
        "plt.xlabel(\"Number of iteration\")\r\n",
        "plt.ylabel(\"Loss\")\r\n",
        "plt.title(\"CNN: Loss vs Number of iteration\")\r\n",
        "plt.show()\r\n",
        "\r\n",
        "# visualization accuracy \r\n",
        "plt.plot(iteration_list,accuracy_list,color = \"red\")\r\n",
        "plt.xlabel(\"Number of iteration\")\r\n",
        "plt.ylabel(\"Accuracy\")\r\n",
        "plt.title(\"CNN: Accuracy vs Number of iteration\")\r\n",
        "plt.show()"
      ],
      "execution_count": 14,
      "outputs": [
        {
          "output_type": "display_data",
          "data": {
            "image/png": "[encoded data removed]",
            "text/plain": [
              "<Figure size 432x288 with 1 Axes>"
            ]
          },
          "metadata": {
            "tags": [],
            "needs_background": "light"
          }
        },
        {
          "output_type": "display_data",
          "data": {
            "image/png": "[encoded data removed]",
            "text/plain": [
              "<Figure size 432x288 with 1 Axes>"
            ]
          },
          "metadata": {
            "tags": [],
            "needs_background": "light"
          }
        }
      ]
    },
    {
      "cell_type": "code",
      "metadata": {
        "id": "SVj17Zc6DlkS"
      },
      "source": [
        ""
      ],
      "execution_count": null,
      "outputs": []
    }
  ]
}